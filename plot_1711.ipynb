{
  "cells": [
    {
      "cell_type": "code",
      "execution_count": null,
      "metadata": {
        "collapsed": false
      },
      "outputs": [],
      "source": [
        "%matplotlib inline"
      ]
    },
    {
      "cell_type": "markdown",
      "metadata": {},
      "source": [
        "\n\n# Single edge notched tension test\n\nA well-known benchmark simulation in fracture mechanics is performed, relying on the simulation conducted by [Miehe]_. This simulation considers an anisotropic formulation with spectral energy decomposition, although we have also repeated the simulations with the isotropic formulation.\n\nThe model consists of a square plate with a notch located halfway up, extending from the left to the center, as shown in the figure below. The bottom part is fixed in all directions, while the upper part can slide vertically. A vertical displacement is applied at the top. The geometry and boundary conditions are depicted in the figure. We discretize the model with triangular elements, refining the areas (element size h) where crack evolution is expected. The element size $h$ must be sufficiently small to avoid mesh dependencies.\n\n```\n#           u/\\/\\/\\/\\/\\/\\       \n#            ||||||||||||  \n#            *----------*  \n#            |          | \n#            | a=0.5    |\n#            |---       |\n#            |          |\n#            |          | \n#            *----------*\n#            /_\\/_\\/_\\/_\\       \n#     |Y    /////////////\n#     |\n#      ---X\n#  Z /\n```\nThe Young's modulus, Poisson's ratio, and the critical energy release rate are given in the table `Properties <table_properties_label>`. Young's modulus $E$ and Poisson's ratio $\\nu$ can be represented with the Lam\u00e9 parameters as: $\\lambda=\\frac{E\\nu}{(1+\\nu)(1-2\\nu)}$; $\\mu=\\frac{E}{2(1+\\nu)}$.\n\n\n+----+---------+--------+\n|    | VALUE   | UNITS  |\n+====+=========+========+\n| E  | 210     | kN/mm2 |\n+----+---------+--------+\n| nu | 0.3     | [-]    |\n+----+---------+--------+\n| Gc | 0.0027  | kN/mm  |\n+----+---------+--------+\n| l  | 0.015   | mm     |\n+----+---------+--------+\n\n.. [Miehe] A phase field model for rate-independent crack propagation: Robust algorithmic implementation based on operator splits, https://doi.org/10.1016/j.cma.2010.04.011.\n"
      ]
    },
    {
      "cell_type": "markdown",
      "metadata": {},
      "source": [
        "## Import necessary libraries\n\n"
      ]
    },
    {
      "cell_type": "code",
      "execution_count": null,
      "metadata": {
        "collapsed": false
      },
      "outputs": [],
      "source": [
        "import numpy as np\nimport matplotlib.pyplot as plt\nimport pyvista as pv\nimport dolfinx\nimport mpi4py\nimport petsc4py\nimport os"
      ]
    },
    {
      "cell_type": "markdown",
      "metadata": {},
      "source": [
        "## Import from phasefieldx package\n\n"
      ]
    },
    {
      "cell_type": "code",
      "execution_count": null,
      "metadata": {
        "collapsed": false
      },
      "outputs": [],
      "source": [
        "from phasefieldx.Element.Phase_Field_Fracture.Input import Input\nfrom phasefieldx.Element.Phase_Field_Fracture.solver.solver import solve\nfrom phasefieldx.Boundary.boundary_conditions import bc_xy, bc_y, get_ds_bound_from_marker\nfrom phasefieldx.PostProcessing.ReferenceResult import AllResults"
      ]
    },
    {
      "cell_type": "markdown",
      "metadata": {},
      "source": [
        "## Parameters Definition\n`Data` is an input object containing essential parameters for simulation setup\nand result storage:\n\n- `E`: Young's modulus, set to 210 $kN/mm^2$.\n- `nu`: Poisson's ratio, set to 0.3.\n- `Gc`: Critical energy release rate, set to 0.005 $kN/mm$.\n- `l`: Length scale parameter, set to 0.1 $mm$.\n- `degradation`: Specifies the degradation type. Options are \"isotropic\" or \"anisotropic\".\n- `split_energy`: Controls how the energy is split; options include \"no\" (default), \"spectral,\" or \"deviatoric.\"\n- `degradation_function`: Specifies the degradation function; here, it is \"quadratic.\"\n- `irreversibility`: Determines the irreversibility criterion; in this case, set to \"miehe.\"\n- `fatigue`: Enables fatigue simulation when set to `True`.\n- `fatigue_degradation_function`: Defines the function for fatigue degradation, set to \"asymptotic.\"\n- `fatigue_val`: Fatigue parameter value (used only in fatigue simulations, not in this one).\n- `k`: Stiffness penalty parameter, set to 0.0.\n- `min_stagger_iter`: Minimum number of staggered iterations, set to 2.\n- `max_stagger_iter`: Maximum number of staggered iterations, set to 500.\n- `stagger_error_tol`: Error tolerance for staggered iterations, set to 1e-8.\n- `save_solution_xdmf` and `save_solution_vtu`: Specify the file formats to save displacement results.\n  In this case, results are saved as `.vtu` files.\n- `results_folder_name`: Name of the folder for saving results. If it exists,\n  it will be replaced with a new empty folder.\n\n"
      ]
    },
    {
      "cell_type": "code",
      "execution_count": null,
      "metadata": {
        "collapsed": false
      },
      "outputs": [],
      "source": [
        "Data = Input(E=210.0,   # young modulus\n             nu=0.3,    # poisson\n             Gc=0.0027,  # critical energy release rate\n             l=0.015,   # lenght scale parameter\n             degradation=\"isotropic\",  # \"isotropic\" \"anisotropic\"\n             split_energy=\"no\",       # \"spectral\" \"deviatoric\"\n             degradation_function=\"quadratic\",\n             irreversibility=\"miehe\",  # \"miehe\"\n             fatigue=False,\n             fatigue_degradation_function=\"asymptotic\",\n             fatigue_val=0.0,\n             k=0.0,\n             save_solution_xdmf=False,\n             save_solution_vtu=True,\n             results_folder_name=\"1711_Single_Edge_Notched_Tension_Test\")"
      ]
    },
    {
      "cell_type": "markdown",
      "metadata": {},
      "source": [
        "## Mesh Definition\nThe mesh is generated using Gmsh and saved as a 'mesh.msh' file. For more details \non how to create the mesh, refer to the `ref_examples_91` examples.\n\n"
      ]
    },
    {
      "cell_type": "code",
      "execution_count": null,
      "metadata": {
        "collapsed": false
      },
      "outputs": [],
      "source": [
        "msh_file = os.path.join(\"mesh\", \"mesh.msh\")  # Path to the mesh file\ngdim = 2                                     # Geometric dimension of the mesh\ngmsh_model_rank = 0                          # Rank of the Gmsh model in a parallel setting\nmesh_comm = mpi4py.MPI.COMM_WORLD            # MPI communicator for parallel computation"
      ]
    },
    {
      "cell_type": "markdown",
      "metadata": {},
      "source": [
        "The mesh, cell markers, and facet markers are extracted from the 'mesh.msh' file\nusing the `read_from_msh` function.\n\n"
      ]
    },
    {
      "cell_type": "code",
      "execution_count": null,
      "metadata": {
        "collapsed": false
      },
      "outputs": [],
      "source": [
        "msh, cell_markers, facet_markers = dolfinx.io.gmshio.read_from_msh(msh_file, mesh_comm, gmsh_model_rank, gdim)\n\nfdim = msh.topology.dim - 1 # Dimension of the mesh facets"
      ]
    },
    {
      "cell_type": "markdown",
      "metadata": {},
      "source": [
        "Facets defined in the .geo file used to generate the 'mesh.msh' file are identified here.\nEach marker variable corresponds to a specific region on the specimen:\n\n- `bottom_facet_marker`: Refers to the bottom part of the specimen.\n- `top_facet_marker`: Refers to the top part of the specimen.\n- `right_facet_marker`: Refers to the right side of the specimen.\n- `left_facet_marker`: Refers to the left side of the specimen.\n\n"
      ]
    },
    {
      "cell_type": "code",
      "execution_count": null,
      "metadata": {
        "collapsed": false
      },
      "outputs": [],
      "source": [
        "bottom_facet_marker = facet_markers.find(9)\ntop_facet_marker = facet_markers.find(10)\nright_facet_marker = facet_markers.find(11)\nleft_facet_marker = facet_markers.find(12)"
      ]
    },
    {
      "cell_type": "markdown",
      "metadata": {},
      "source": [
        "The `get_ds_bound_from_marker` function creates measures for applying boundary conditions\non specific facets. These measures are generated for:\n\n- `bottom_facet_marker` \u2192 Stored in `ds_bottom`\n- `top_facet_marker` \u2192 Stored in `ds_top`\n\n"
      ]
    },
    {
      "cell_type": "code",
      "execution_count": null,
      "metadata": {
        "collapsed": false
      },
      "outputs": [],
      "source": [
        "ds_bottom = get_ds_bound_from_marker(bottom_facet_marker, msh, fdim)\nds_top = get_ds_bound_from_marker(top_facet_marker, msh, fdim)"
      ]
    },
    {
      "cell_type": "markdown",
      "metadata": {},
      "source": [
        "`ds_list` is an array that organizes boundary condition measures alongside descriptive names.\nEach entry in `ds_list` consists of two elements:\n\n- A measure (e.g., `ds_bottom`)\n- A corresponding name (e.g., `\"bottom\"`)\nThis structure simplifies the process of saving results by associating each boundary condition\nmeasure with a clear label. For instance:\n\n- `ds_bottom` is labeled as `\"bottom\"`.\n- `ds_top` is labeled as `\"top\"`.\n\n"
      ]
    },
    {
      "cell_type": "code",
      "execution_count": null,
      "metadata": {
        "collapsed": false
      },
      "outputs": [],
      "source": [
        "ds_list = np.array([\n                   [ds_top, \"top\"],\n                   [ds_bottom, \"bottom\"],\n                   ])"
      ]
    },
    {
      "cell_type": "markdown",
      "metadata": {},
      "source": [
        "## Function Space Definition\nDefine function spaces for displacement and phase-field using Lagrange elements.\n\n"
      ]
    },
    {
      "cell_type": "code",
      "execution_count": null,
      "metadata": {
        "collapsed": false
      },
      "outputs": [],
      "source": [
        "V_u = dolfinx.fem.functionspace(msh, (\"Lagrange\", 1, (msh.geometry.dim, )))\nV_phi = dolfinx.fem.functionspace(msh, (\"Lagrange\", 1))"
      ]
    },
    {
      "cell_type": "markdown",
      "metadata": {},
      "source": [
        "## Boundary Conditions\nDirichlet boundary conditions are defined as follows:\n\n- `bc_bottom`: Constrains both x and y displacements to 0 on the bottom boundary, \n  ensuring that the bottom edge remains fixed.\n- `bc_top`: Constrains the x displacement, while the vertical displacement on the \n  top boundary is updated dynamically in the quasi-static solver to impose the desired \n  vertical displacement.\n\n"
      ]
    },
    {
      "cell_type": "code",
      "execution_count": null,
      "metadata": {
        "collapsed": false
      },
      "outputs": [],
      "source": [
        "bc_bottom = bc_xy(bottom_facet_marker, V_u, fdim)\nbc_top = bc_y(top_facet_marker, V_u, fdim)"
      ]
    },
    {
      "cell_type": "markdown",
      "metadata": {},
      "source": [
        "The bcs_list_u variable is a list that stores all boundary conditions for the displacement\nfield $\\boldsymbol u$. This list facilitates easy management of multiple boundary\nconditions and can be expanded if additional conditions are needed.\n\n"
      ]
    },
    {
      "cell_type": "code",
      "execution_count": null,
      "metadata": {
        "collapsed": false
      },
      "outputs": [],
      "source": [
        "bcs_list_u = [bc_top, bc_bottom]\nbcs_list_u_names = [\"top\", \"bottom\"]"
      ]
    },
    {
      "cell_type": "markdown",
      "metadata": {},
      "source": [
        "## Function: `update_boundary_conditions`\nThe `update_boundary_conditions` function updates the displacement boundary \nconditions dynamically at each time step. This enables quasi-static analysis \nby incrementally adjusting the displacements applied to specific degrees of freedom.\n\nParameters:\n\n- `bcs`: A list of boundary conditions, where each element corresponds to a \nboundary condition applied to a specific facet of the mesh.\n- `time`: A scalar representing the current time step in the analysis.\n\nFunction Details:\n\n- The displacement value `val` is computed based on the current `time`:\n- For `time <= 50`, `val` increases linearly as `val = dt0 * time`, where `dt0` \n  is a small time step factor (`10^-4`), simulating gradual displacement along the y-axis.\n- For `time > 50`, `val` increases more gradually as `val = 50 * dt0 + (dt0 / 10) * (time - 50)`, \n  which represents a slower displacement rate after the initial period.\n\n- This calculated value is assigned to the y-component of the displacement field \n  on the top boundary by modifying `bcs[0].g.value[1]`, where `bcs[0]` represents the \n  top boundary condition.\n\nReturn Value:\n\n- A tuple `(0, val, 0)` is returned, representing the incremental displacement vector:\n- The first element (0) corresponds to no update for the x-displacement.\n- The second element (`val`) is the calculated y-displacement.\n- The third element (0) corresponds to no update for the z-displacement, applicable in 2D simulations.\n\nPurpose:\n\n- This function facilitates quasi-static analysis by applying controlled, time-dependent \n  boundary displacements. It is essential for simulations that involve gradual loading or unloading, \n  with a slower displacement evolution after an initial phase.\n\n"
      ]
    },
    {
      "cell_type": "code",
      "execution_count": null,
      "metadata": {
        "collapsed": false
      },
      "outputs": [],
      "source": [
        "def update_boundary_conditions(bcs, time):\n    dt0 = 10**-4\n    if time <= 50:\n        val = dt0 * time\n    else:\n        val = 50 * dt0 + dt0 / 10 * (time - 50)\n    bcs[0].g.value[...] = petsc4py.PETSc.ScalarType(val)\n    return 0, val, 0\n\n\nT_list_u = None\nupdate_loading = None\nf = None\nT = dolfinx.fem.Constant(msh, petsc4py.PETSc.ScalarType((0.0, 0.0)))"
      ]
    },
    {
      "cell_type": "markdown",
      "metadata": {},
      "source": [
        "Boundary Conditions for phase field\n\n"
      ]
    },
    {
      "cell_type": "code",
      "execution_count": null,
      "metadata": {
        "collapsed": false
      },
      "outputs": [],
      "source": [
        "bcs_list_phi = []"
      ]
    },
    {
      "cell_type": "markdown",
      "metadata": {},
      "source": [
        "## Solver Call for a Phase-Field Fracture Problem\nThis section sets up and calls the solver for a phase-field fracture problem.\n\n**Key Points:**\n\n- The simulation is run for a final time of 150, with a time step of 1.0.\n- The solver will manage the mesh, boundary conditions, and update the solution\n  over the specified time steps.\n\n**Parameters:**\n\n- `dt`: The time step for the simulation, set to 1.0.\n- `final_time`: The total simulation time, set to 200.0, which determines how \n  long the problem will be solved.\n- `path`: Optional parameter for specifying the folder where results will be saved; \n  here it is set to `None`, meaning results will be saved to the default location.\n\n**Function Call:**\nThe `solve` function is invoked with the following arguments:\n\n- `Data`: Contains the simulation parameters and configurations.\n- `msh`: The mesh representing the domain for the problem.\n- `final_time`: The total duration of the simulation (200.0).\n- `V_u`: Function space for the displacement field, $\\boldsymbol{u}$.\n- `V_phi`: Function space for the phase field, $\\phi$.\n- `bcs_list_u`: List of Dirichlet boundary conditions for the displacement field.\n- `bcs_list_phi`: List of boundary conditions for the phase field (empty in this case).\n- `update_boundary_conditions`: Function to update boundary conditions for the displacement field.\n- `f`: The body force applied to the domain (if any).\n- `T_list_u`: Time-dependent loading parameters for the displacement field.\n- `update_loading`: Function to update loading parameters for the quasi-static analysis.\n- `ds_list`: Boundary measures for integration over the domain boundaries.\n- `dt`: The time step for the simulation.\n- `path`: Directory for saving results (if specified).\n\nThis setup provides a framework for solving static problems with specified boundary \nconditions and loading parameters.\n\n"
      ]
    },
    {
      "cell_type": "code",
      "execution_count": null,
      "metadata": {
        "collapsed": false
      },
      "outputs": [],
      "source": [
        "dt = 1.0\nfinal_time = 150.0"
      ]
    },
    {
      "cell_type": "markdown",
      "metadata": {},
      "source": [
        "Uncomment the following lines to run the solver with the specified parameters.\n\n"
      ]
    },
    {
      "cell_type": "code",
      "execution_count": null,
      "metadata": {
        "collapsed": false
      },
      "outputs": [],
      "source": [
        "# solve(Data,\n#       msh,\n#       final_time,\n#       V_u,\n#       V_phi,\n#       bcs_list_u,\n#       bcs_list_phi,\n#       update_boundary_conditions,\n#       f,\n#       T_list_u,\n#       update_loading,\n#       ds_list,\n#       dt,\n#       path=None,\n#       bcs_list_u_names=bcs_list_u_names,\n#       min_stagger_iter=2,\n#       max_stagger_iter=500,\n#       stagger_error_tol=1e-8)"
      ]
    },
    {
      "cell_type": "markdown",
      "metadata": {},
      "source": [
        "## Load results\nOnce the simulation finishes, the results are loaded from the results folder.\nThe AllResults class takes the folder path as an argument and stores all\nthe results, including logs, energy, convergence, and DOF files.\nNote that it is possible to load results from other results folders to compare results.\nIt is also possible to define a custom label and color to automate plot labels.\n\n"
      ]
    },
    {
      "cell_type": "code",
      "execution_count": null,
      "metadata": {
        "collapsed": false
      },
      "outputs": [],
      "source": [
        "S = AllResults(Data.results_folder_name)\nS.set_label('Simulation')\nS.set_color('b')"
      ]
    },
    {
      "cell_type": "markdown",
      "metadata": {},
      "source": [
        "## Plot: phase-field $\\phi$\nThe phase-field result saved in the .vtu file is shown.\nFor this, the file is loaded using PyVista.\n\n"
      ]
    },
    {
      "cell_type": "code",
      "execution_count": null,
      "metadata": {
        "collapsed": false
      },
      "outputs": [],
      "source": [
        "file_vtu = pv.read(os.path.join(Data.results_folder_name, \"paraview-solutions_vtu\", \"phasefieldx_p0_000149.vtu\"))\npv.start_xvfb()\nfile_vtu.plot(scalars='phi', cpos='xy', show_scalar_bar=True, show_edges=False)"
      ]
    },
    {
      "cell_type": "markdown",
      "metadata": {},
      "source": [
        "## Plot: displacement $\\boldsymbol u$\nThe displacements results saved in the .vtu file are shown.\nFor this, the file is loaded using PyVista.\n\n"
      ]
    },
    {
      "cell_type": "code",
      "execution_count": null,
      "metadata": {
        "collapsed": false
      },
      "outputs": [],
      "source": [
        "file_vtu = pv.read(os.path.join(Data.results_folder_name, \"paraview-solutions_vtu\", \"phasefieldx_p0_000149.vtu\"))\nfile_vtu.plot(scalars='u', cpos='xy', show_scalar_bar=True, show_edges=False)"
      ]
    },
    {
      "cell_type": "markdown",
      "metadata": {},
      "source": [
        "## Plot: Displacement vs Fracture Energy\nThe vertical displacement is saved in S.dof_files[\"top.dof\"][\"Uy\"].\n\n"
      ]
    },
    {
      "cell_type": "code",
      "execution_count": null,
      "metadata": {
        "collapsed": false
      },
      "outputs": [],
      "source": [
        "displacement = S.dof_files[\"top.dof\"][\"Uy\"]\n\nfig, energyW = plt.subplots()\n\nenergyW.plot(displacement, S.energy_files['total.energy'][\"W\"], 'b-', linewidth=2.0, label=r'$W$')\nenergyW.plot(displacement, S.energy_files['total.energy'][\"W_phi\"], 'y-', linewidth=2.0, label=r'$W_{\\phi}$')\nenergyW.plot(displacement, S.energy_files['total.energy'][\"W_gradphi\"], 'g-', linewidth=2.0, label=r'$W_{\\nabla \\phi}$')\n\nenergyW.grid(color='k', linestyle='-', linewidth=0.3)\nenergyW.set_xlabel('displacement - u $[mm]$')\nenergyW.set_ylabel('Energy')\nenergyW.legend()"
      ]
    },
    {
      "cell_type": "markdown",
      "metadata": {},
      "source": [
        "## Plot: Displacement vs Gamma\n\n"
      ]
    },
    {
      "cell_type": "code",
      "execution_count": null,
      "metadata": {
        "collapsed": false
      },
      "outputs": [],
      "source": [
        "fig, gamma = plt.subplots()\n\ngamma.plot(displacement, S.energy_files['total.energy'][\"gamma\"], 'b-', linewidth=2.0, label=r'$\\Gamma$')\ngamma.plot(displacement, S.energy_files['total.energy'][\"gamma_phi\"], 'y-', linewidth=2.0, label=r'$\\Gamma_{\\phi}$')\ngamma.plot(displacement, S.energy_files['total.energy'][\"gamma_gradphi\"], 'g-', linewidth=2.0, label=r'$\\Gamma_{\\nabla \\phi}$')\n\ngamma.grid(color='k', linestyle='-', linewidth=0.3)\ngamma.set_xlabel('displacement - u $[mm]$')\ngamma.set_ylabel(r'$\\Gamma$')\ngamma.legend()"
      ]
    },
    {
      "cell_type": "markdown",
      "metadata": {},
      "source": [
        "## Plot: Force vs Vertical Displacement\n\n"
      ]
    },
    {
      "cell_type": "code",
      "execution_count": null,
      "metadata": {
        "collapsed": false
      },
      "outputs": [],
      "source": [
        "Miehe = np.loadtxt(os.path.join(\"reference_solutions\", \"miehe_solution.csv\"))\n\nfig, ax_reaction = plt.subplots()\n\nax_reaction.plot(Miehe[:, 0], Miehe[:, 1], 'g-', linewidth=2.0, label='Miehe')\nax_reaction.plot(displacement, -S.reaction_files['bottom.reaction'][\"Ry\"], 'k.', linewidth=2.0, label=S.label)\n\nax_reaction.grid(color='k', linestyle='-', linewidth=0.3)\nax_reaction.set_xlabel('displacement - u $[mm]$')\nax_reaction.set_ylabel('reaction force - F $[kN]$')\nax_reaction.set_title('Reaction Force vs Vertical Displacement')\nax_reaction.legend()"
      ]
    },
    {
      "cell_type": "markdown",
      "metadata": {},
      "source": [
        "## Plot: Staggered Iterations vs Vertical Displacement\n\n"
      ]
    },
    {
      "cell_type": "code",
      "execution_count": null,
      "metadata": {
        "collapsed": false
      },
      "outputs": [],
      "source": [
        "fig, ax_convergence = plt.subplots()\n\nax_convergence.plot(displacement, S.convergence_files[\"phasefieldx.conv\"][\"stagger\"], 'k.', linewidth=2.0, label='Stagger iterations')\n\nax_convergence.grid(color='k', linestyle='-', linewidth=0.3)\nax_convergence.set_xlabel('displacement - u $[mm]$')\nax_convergence.set_ylabel('stagger iterations - []')\nax_convergence.set_title('Stagger iterations vs vertical displacement')\nax_convergence.legend()\n\nplt.show()"
      ]
    }
  ],
  "metadata": {
    "kernelspec": {
      "display_name": "Python 3",
      "language": "python",
      "name": "python3"
    },
    "language_info": {
      "codemirror_mode": {
        "name": "ipython",
        "version": 3
      },
      "file_extension": ".py",
      "mimetype": "text/x-python",
      "name": "python",
      "nbconvert_exporter": "python",
      "pygments_lexer": "ipython3",
      "version": "3.10.18"
    }
  },
  "nbformat": 4,
  "nbformat_minor": 0
}